{
 "cells": [
  {
   "cell_type": "code",
   "execution_count": 7,
   "metadata": {},
   "outputs": [
    {
     "name": "stdin",
     "output_type": "stream",
     "text": [
      "Сколько человек пойдёт за водой? >>>  1\n"
     ]
    },
    {
     "name": "stdout",
     "output_type": "stream",
     "text": [
      "За водой пойдут: \n",
      "Ваня Ягилев\n"
     ]
    }
   ],
   "source": [
    "from random import randint\n",
    "\n",
    "man = ['Иван Сазанов','Никита Кривовичев','Саша Маслов','Саша Парфёнов','Саша Клитин',\\\n",
    "       'Лёва Мудров','Ваня Ягилев','Макс Булыгин','Никита Паршичев',\\\n",
    "       'Влад Махотин','Марк Полетаев','Илья Спирин','Илья Милешин','Коля Назаров',\\\n",
    "      'Дима Петренко','Влад Музыкантов']\n",
    "\n",
    "man  = sorted(man)\n",
    "\n",
    "water_man = []\n",
    "\n",
    "n=17\n",
    "while n>16:\n",
    "    n = int(input('Сколько человек пойдёт за водой? >>> '))\n",
    "    if n>16: print('to many... try again')\n",
    "        \n",
    "water_man.append(randint(0,len(man)))\n",
    "\n",
    "while n != len(water_man):\n",
    "    w = randint(0,len(man)-1)\n",
    "    if (w in  water_man) or (w == 6): continue\n",
    "    else:\n",
    "        water_man.append(w)\n",
    "        \n",
    "print('За водой пойдут: ')\n",
    "\n",
    "for i in range(len(water_man)):\n",
    "    print(man[water_man[i]])\n"
   ]
  }
 ],
 "metadata": {
  "kernelspec": {
   "display_name": "Python 3",
   "language": "python",
   "name": "python3"
  },
  "language_info": {
   "codemirror_mode": {
    "name": "ipython",
    "version": 3
   },
   "file_extension": ".py",
   "mimetype": "text/x-python",
   "name": "python",
   "nbconvert_exporter": "python",
   "pygments_lexer": "ipython3",
   "version": "3.7.1"
  }
 },
 "nbformat": 4,
 "nbformat_minor": 2
}
