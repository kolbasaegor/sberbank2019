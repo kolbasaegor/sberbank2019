{
 "cells": [
  {
   "cell_type": "code",
   "execution_count": null,
   "metadata": {},
   "outputs": [],
   "source": [
    "import pandas as pd \n",
    "\n",
    "\n",
    "table = pd.read_csv('Dota2_verybig_train.csv', index_col='id')\n",
    "\n",
    "x = table.drop(['skilled','player_team','winner_team',], axis = 1)\n",
    "y = table['skilled']\n",
    "\n",
    "\n",
    "from sklearn.model_selection import train_test_split\n",
    "\n",
    "x_train, x_validation, y_train, y_validation = train_test_split(x, y, test_size=.33, random_state=1)\n",
    "\n",
    "\n",
    "from catboost import CatBoostClassifier \n",
    "\n",
    "boost = CatBoostClassifier(iterations = 12000, learning_rate = 0.0756, max_depth = 6,\n",
    "                          loss_function = 'CrossEntropy', boosting_type = 'Plain', \n",
    "                          bootstrap_type = 'Bernoulli', subsample = 0.5, )\n",
    "\n",
    "boost.fit(x_train, y_train)\n",
    "\n",
    "\n",
    "from sklearn.metrics import accuracy_score\n",
    "\n",
    "validation_acc = accuracy_score(y_validation, boost.predict(x_validation))\n",
    "\n",
    "print('Точность на валидации:', validation_acc*100, '%')\n",
    "\n",
    "ya yebnul tebya po bitam na 90 %"
   ]
  },
  {
   "cell_type": "code",
   "execution_count": null,
   "metadata": {},
   "outputs": [],
   "source": []
  }
 ],
 "metadata": {
  "kernelspec": {
   "display_name": "Python 3",
   "language": "python",
   "name": "python3"
  },
  "language_info": {
   "codemirror_mode": {
    "name": "ipython",
    "version": 3
   },
   "file_extension": ".py",
   "mimetype": "text/x-python",
   "name": "python",
   "nbconvert_exporter": "python",
   "pygments_lexer": "ipython3",
   "version": "3.7.1"
  }
 },
 "nbformat": 4,
 "nbformat_minor": 2
}
