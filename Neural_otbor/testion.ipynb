{
 "cells": [
  {
   "cell_type": "code",
   "execution_count": null,
   "metadata": {},
   "outputs": [],
   "source": [
    "import pandas as pd\n",
    "\n",
    "\n",
    "table_train = pd.read_csv('Dota2_verybig_train.csv', index_col='id')\n",
    "table_test = pd.read_csv('Dota2_verybig_test.csv', index_col='id')\n",
    "\n",
    "x_train = table_train.drop(['skilled','player_team','winner_team',], axis = 1)\n",
    "y_train = table_train['skilled']\n",
    "x_test = table_test.drop(['player_team','winner_team'], axis = 1)\n",
    "\n",
    "from catboost import CatBoostClassifier \n",
    "\n",
    "boost = CatBoostClassifier(iterations = 12000, learning_rate = 0.0756, max_depth = 6,\n",
    "                          loss_function = 'CrossEntropy')\n",
    "\n",
    "boost.fit(x_train, y_train)\n",
    "\n",
    "y_predict = boost.predict(x_test) \n",
    "\n",
    "data2 = pd.DataFrame({'skilled': y_predict}, index=x_test.index)\n",
    "data2.to_csv('ladida.csv')\n"
   ]
  },
  {
   "cell_type": "code",
   "execution_count": null,
   "metadata": {},
   "outputs": [],
   "source": []
  }
 ],
 "metadata": {
  "kernelspec": {
   "display_name": "Python 3",
   "language": "python",
   "name": "python3"
  },
  "language_info": {
   "codemirror_mode": {
    "name": "ipython",
    "version": 3
   },
   "file_extension": ".py",
   "mimetype": "text/x-python",
   "name": "python",
   "nbconvert_exporter": "python",
   "pygments_lexer": "ipython3",
   "version": "3.7.1"
  }
 },
 "nbformat": 4,
 "nbformat_minor": 2
}
